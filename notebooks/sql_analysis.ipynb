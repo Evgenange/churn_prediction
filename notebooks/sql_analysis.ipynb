{
 "cells": [
  {
   "cell_type": "markdown",
   "id": "e4054002-d0b0-48c2-be4d-aba6dad62049",
   "metadata": {},
   "source": [
    "### Setup & SQLite Connection"
   ]
  },
  {
   "cell_type": "code",
   "execution_count": 44,
   "id": "1766c4fb-3a25-4a61-beb6-e36984577fda",
   "metadata": {},
   "outputs": [],
   "source": [
    "import pandas as pd\n",
    "from pathlib import Path\n",
    "import matplotlib.pyplot as plt\n",
    "import seaborn as sns\n",
    "import sqlite3"
   ]
  },
  {
   "cell_type": "code",
   "execution_count": 19,
   "id": "fd754291-8b62-4b06-a287-8641838f8d0a",
   "metadata": {},
   "outputs": [
    {
     "name": "stdout",
     "output_type": "stream",
     "text": [
      "Database ready with table telco\n"
     ]
    }
   ],
   "source": [
    "# Define relative path \n",
    "DATA_DIR = Path(\"../data\")\n",
    "file_path = DATA_DIR / \"Telco_customer_churn.xlsx\"\n",
    "\n",
    "assert file_path.exists(), f\"Dataset not found at {file_path}.\"\n",
    "\n",
    "# Load Excel file\n",
    "df = pd.read_excel(file_path)\n",
    "# Create SQLite connection\n",
    "conn = sqlite3.connect(\":memory:\")\n",
    "#Save DataFrame as a SQL table\n",
    "df.to_sql(\"telco\",conn,index=False,if_exists=\"replace\")\n",
    "print(\"Database ready with table telco\")"
   ]
  },
  {
   "cell_type": "markdown",
   "id": "081c1932-7a8d-4f37-8a0a-c427a5a2c720",
   "metadata": {},
   "source": [
    "### Churn Distribution\n",
    "To begin, we will calculate the overall churn rate to understand the scale of the problem. Knowing the baseline churn is important because it guides model evaluation."
   ]
  },
  {
   "cell_type": "code",
   "execution_count": 117,
   "id": "b8036691-ac5e-4d0e-98f4-d6a69e388bab",
   "metadata": {},
   "outputs": [
    {
     "data": {
      "text/html": [
       "<div>\n",
       "<style scoped>\n",
       "    .dataframe tbody tr th:only-of-type {\n",
       "        vertical-align: middle;\n",
       "    }\n",
       "\n",
       "    .dataframe tbody tr th {\n",
       "        vertical-align: top;\n",
       "    }\n",
       "\n",
       "    .dataframe thead th {\n",
       "        text-align: right;\n",
       "    }\n",
       "</style>\n",
       "<table border=\"1\" class=\"dataframe\">\n",
       "  <thead>\n",
       "    <tr style=\"text-align: right;\">\n",
       "      <th></th>\n",
       "      <th>Churn Label</th>\n",
       "      <th>total_customers</th>\n",
       "      <th>pct_customers</th>\n",
       "    </tr>\n",
       "  </thead>\n",
       "  <tbody>\n",
       "    <tr>\n",
       "      <th>0</th>\n",
       "      <td>No</td>\n",
       "      <td>5174</td>\n",
       "      <td>73.46</td>\n",
       "    </tr>\n",
       "    <tr>\n",
       "      <th>1</th>\n",
       "      <td>Yes</td>\n",
       "      <td>1869</td>\n",
       "      <td>26.54</td>\n",
       "    </tr>\n",
       "  </tbody>\n",
       "</table>\n",
       "</div>"
      ],
      "text/plain": [
       "  Churn Label  total_customers  pct_customers\n",
       "0          No             5174          73.46\n",
       "1         Yes             1869          26.54"
      ]
     },
     "execution_count": 117,
     "metadata": {},
     "output_type": "execute_result"
    }
   ],
   "source": [
    "query = \"\"\"\n",
    "SELECT [Churn Label],\n",
    "       COUNT(*) AS total_customers,\n",
    "       ROUND(100.0 * COUNT(*) / (SELECT COUNT(*) FROM telco), 2) AS pct_customers\n",
    "FROM telco\n",
    "GROUP BY [Churn Label];\n",
    "\"\"\"\n",
    "pd.read_sql_query(query, conn)"
   ]
  },
  {
   "cell_type": "markdown",
   "id": "1a2b130c-c62f-4b51-a14f-e73f3fb91f62",
   "metadata": {},
   "source": [
    "Churn rate is about 27%. This indicates moderate class imbalance(most customers stay,some leave). Predictive models must optimise recall for churners, not just overall accuracy. \n",
    "\n",
    "### Churn by Contact Type\n",
    "The next step is to look for the contract type as it is a strong behavioral indicator. Customets on shorter contracts may feel less committed. "
   ]
  },
  {
   "cell_type": "code",
   "execution_count": 121,
   "id": "75316232-61b5-4364-8cb4-72da6fbde287",
   "metadata": {},
   "outputs": [
    {
     "data": {
      "text/html": [
       "<div>\n",
       "<style scoped>\n",
       "    .dataframe tbody tr th:only-of-type {\n",
       "        vertical-align: middle;\n",
       "    }\n",
       "\n",
       "    .dataframe tbody tr th {\n",
       "        vertical-align: top;\n",
       "    }\n",
       "\n",
       "    .dataframe thead th {\n",
       "        text-align: right;\n",
       "    }\n",
       "</style>\n",
       "<table border=\"1\" class=\"dataframe\">\n",
       "  <thead>\n",
       "    <tr style=\"text-align: right;\">\n",
       "      <th></th>\n",
       "      <th>Contract</th>\n",
       "      <th>total_customers</th>\n",
       "      <th>churned_customers</th>\n",
       "      <th>churn_rate</th>\n",
       "    </tr>\n",
       "  </thead>\n",
       "  <tbody>\n",
       "    <tr>\n",
       "      <th>0</th>\n",
       "      <td>Month-to-month</td>\n",
       "      <td>3875</td>\n",
       "      <td>1655</td>\n",
       "      <td>42.71</td>\n",
       "    </tr>\n",
       "    <tr>\n",
       "      <th>1</th>\n",
       "      <td>One year</td>\n",
       "      <td>1473</td>\n",
       "      <td>166</td>\n",
       "      <td>11.27</td>\n",
       "    </tr>\n",
       "    <tr>\n",
       "      <th>2</th>\n",
       "      <td>Two year</td>\n",
       "      <td>1695</td>\n",
       "      <td>48</td>\n",
       "      <td>2.83</td>\n",
       "    </tr>\n",
       "  </tbody>\n",
       "</table>\n",
       "</div>"
      ],
      "text/plain": [
       "         Contract  total_customers  churned_customers  churn_rate\n",
       "0  Month-to-month             3875               1655       42.71\n",
       "1        One year             1473                166       11.27\n",
       "2        Two year             1695                 48        2.83"
      ]
     },
     "execution_count": 121,
     "metadata": {},
     "output_type": "execute_result"
    }
   ],
   "source": [
    "query = \"\"\"\n",
    "SELECT Contract,\n",
    "       COUNT(*) AS total_customers,\n",
    "       SUM(CASE WHEN [Churn Value] = 1 THEN 1 ELSE 0 END) AS churned_customers,\n",
    "       ROUND(100.0 * SUM(CASE WHEN [Churn Value] = 1 THEN 1 ELSE 0 END) / COUNT(*),2) AS churn_rate\n",
    "FROM telco\n",
    "GROUP BY Contract\n",
    "ORDER BY churn_rate DESC;\n",
    "\"\"\"\n",
    "pd.read_sql_query(query,conn)"
   ]
  },
  {
   "cell_type": "markdown",
   "id": "2b9a8c87-3faa-496d-93d1-06a40079905c",
   "metadata": {},
   "source": [
    "Customers with month to month contracts churn at almost 43%,compared to only 3-11% for one and two year contracts.\n",
    "This shows contact type is a strong predictor of churn and an important business lever.\n",
    "\n",
    "### Churn by Payment Method\n",
    "Next, we will see how payment influences churn. Some methods indicate less stable customer relationships."
   ]
  },
  {
   "cell_type": "code",
   "execution_count": 125,
   "id": "666effe3-2d15-487a-a38c-410dcc89046e",
   "metadata": {},
   "outputs": [
    {
     "data": {
      "text/html": [
       "<div>\n",
       "<style scoped>\n",
       "    .dataframe tbody tr th:only-of-type {\n",
       "        vertical-align: middle;\n",
       "    }\n",
       "\n",
       "    .dataframe tbody tr th {\n",
       "        vertical-align: top;\n",
       "    }\n",
       "\n",
       "    .dataframe thead th {\n",
       "        text-align: right;\n",
       "    }\n",
       "</style>\n",
       "<table border=\"1\" class=\"dataframe\">\n",
       "  <thead>\n",
       "    <tr style=\"text-align: right;\">\n",
       "      <th></th>\n",
       "      <th>Payment Method</th>\n",
       "      <th>total_customers</th>\n",
       "      <th>churned_customers</th>\n",
       "      <th>churn_rate</th>\n",
       "    </tr>\n",
       "  </thead>\n",
       "  <tbody>\n",
       "    <tr>\n",
       "      <th>0</th>\n",
       "      <td>Electronic check</td>\n",
       "      <td>2365</td>\n",
       "      <td>1071</td>\n",
       "      <td>45.29</td>\n",
       "    </tr>\n",
       "    <tr>\n",
       "      <th>1</th>\n",
       "      <td>Mailed check</td>\n",
       "      <td>1612</td>\n",
       "      <td>308</td>\n",
       "      <td>19.11</td>\n",
       "    </tr>\n",
       "    <tr>\n",
       "      <th>2</th>\n",
       "      <td>Bank transfer (automatic)</td>\n",
       "      <td>1544</td>\n",
       "      <td>258</td>\n",
       "      <td>16.71</td>\n",
       "    </tr>\n",
       "    <tr>\n",
       "      <th>3</th>\n",
       "      <td>Credit card (automatic)</td>\n",
       "      <td>1522</td>\n",
       "      <td>232</td>\n",
       "      <td>15.24</td>\n",
       "    </tr>\n",
       "  </tbody>\n",
       "</table>\n",
       "</div>"
      ],
      "text/plain": [
       "              Payment Method  total_customers  churned_customers  churn_rate\n",
       "0           Electronic check             2365               1071       45.29\n",
       "1               Mailed check             1612                308       19.11\n",
       "2  Bank transfer (automatic)             1544                258       16.71\n",
       "3    Credit card (automatic)             1522                232       15.24"
      ]
     },
     "execution_count": 125,
     "metadata": {},
     "output_type": "execute_result"
    }
   ],
   "source": [
    "query=\"\"\"\n",
    "SELECT [Payment Method],\n",
    "        COUNT(*) AS total_customers,\n",
    "        SUM(CASE WHEN [Churn Value] = 1 THEN 1 ELSE 0 END) AS churned_customers,\n",
    "        ROUND(100.0 * SUM(CASE WHEN [Churn Value] = 1 THEN 1 ELSE 0 END) / COUNT(*),2) AS churn_rate\n",
    "FROM telco\n",
    "GROUP BY [Payment Method]\n",
    "ORDER BY churn_rate DESC;\n",
    "\"\"\"\n",
    "pd.read_sql_query(query,conn)"
   ]
  },
  {
   "cell_type": "markdown",
   "id": "2266c295-58e7-414e-8eb2-18732b555a62",
   "metadata": {},
   "source": [
    "Payment method is important as can reveal behavioral churn patterns.\n",
    "Customers who pay electronically might be more month to month and less sticky. Churn isn't just about customer counts but it is also about lost revenue.\n",
    "\n",
    "### Revenue Impart of Churn"
   ]
  },
  {
   "cell_type": "code",
   "execution_count": 30,
   "id": "9a036009-2db0-4942-a65a-1da3df7ff719",
   "metadata": {},
   "outputs": [
    {
     "data": {
      "text/html": [
       "<div>\n",
       "<style scoped>\n",
       "    .dataframe tbody tr th:only-of-type {\n",
       "        vertical-align: middle;\n",
       "    }\n",
       "\n",
       "    .dataframe tbody tr th {\n",
       "        vertical-align: top;\n",
       "    }\n",
       "\n",
       "    .dataframe thead th {\n",
       "        text-align: right;\n",
       "    }\n",
       "</style>\n",
       "<table border=\"1\" class=\"dataframe\">\n",
       "  <thead>\n",
       "    <tr style=\"text-align: right;\">\n",
       "      <th></th>\n",
       "      <th>Churn Value</th>\n",
       "      <th>avg_monthly_charge</th>\n",
       "      <th>total_revenue</th>\n",
       "      <th>pct_revenue</th>\n",
       "    </tr>\n",
       "  </thead>\n",
       "  <tbody>\n",
       "    <tr>\n",
       "      <th>0</th>\n",
       "      <td>0</td>\n",
       "      <td>61.27</td>\n",
       "      <td>316985.75</td>\n",
       "      <td>69.5</td>\n",
       "    </tr>\n",
       "    <tr>\n",
       "      <th>1</th>\n",
       "      <td>1</td>\n",
       "      <td>74.44</td>\n",
       "      <td>139130.85</td>\n",
       "      <td>30.5</td>\n",
       "    </tr>\n",
       "  </tbody>\n",
       "</table>\n",
       "</div>"
      ],
      "text/plain": [
       "   Churn Value  avg_monthly_charge  total_revenue  pct_revenue\n",
       "0            0               61.27      316985.75         69.5\n",
       "1            1               74.44      139130.85         30.5"
      ]
     },
     "execution_count": 30,
     "metadata": {},
     "output_type": "execute_result"
    }
   ],
   "source": [
    "query = \"\"\"\n",
    "SELECT [Churn Value],                               \n",
    "       ROUND(AVG([Monthly Charges]), 2) AS avg_monthly_charge,  \n",
    "       ROUND(SUM([Monthly Charges]), 2) AS total_revenue,\n",
    "       ROUND(100.0 * SUM([Monthly Charges]) / (SELECT SUM([Monthly Charges]) FROM telco), 2) AS pct_revenue\n",
    "FROM telco\n",
    "GROUP BY [Churn Value];\n",
    "\"\"\"\n",
    "pd.read_sql_query(query, conn)"
   ]
  },
  {
   "cell_type": "markdown",
   "id": "37980366-cb18-42ef-9f2e-9a045fb07697",
   "metadata": {},
   "source": [
    "Churners represent around 30% of montly revenue, despite being a smaller share of customers.Retention efforts should prioritize this high-value group.\n",
    "\n",
    "### Churn by Tenure Buckets\n",
    "Our next step is to identify how churners behave on tenures."
   ]
  },
  {
   "cell_type": "code",
   "execution_count": 114,
   "id": "6e76cc21-5e17-404c-9635-ad895194e906",
   "metadata": {},
   "outputs": [
    {
     "data": {
      "text/html": [
       "<div>\n",
       "<style scoped>\n",
       "    .dataframe tbody tr th:only-of-type {\n",
       "        vertical-align: middle;\n",
       "    }\n",
       "\n",
       "    .dataframe tbody tr th {\n",
       "        vertical-align: top;\n",
       "    }\n",
       "\n",
       "    .dataframe thead th {\n",
       "        text-align: right;\n",
       "    }\n",
       "</style>\n",
       "<table border=\"1\" class=\"dataframe\">\n",
       "  <thead>\n",
       "    <tr style=\"text-align: right;\">\n",
       "      <th></th>\n",
       "      <th>tenure_group</th>\n",
       "      <th>total_customers</th>\n",
       "      <th>churned_customers</th>\n",
       "      <th>churn_rate</th>\n",
       "    </tr>\n",
       "  </thead>\n",
       "  <tbody>\n",
       "    <tr>\n",
       "      <th>0</th>\n",
       "      <td>0-12 months</td>\n",
       "      <td>2069</td>\n",
       "      <td>999</td>\n",
       "      <td>48.28</td>\n",
       "    </tr>\n",
       "    <tr>\n",
       "      <th>1</th>\n",
       "      <td>12-24 months</td>\n",
       "      <td>1047</td>\n",
       "      <td>309</td>\n",
       "      <td>29.51</td>\n",
       "    </tr>\n",
       "    <tr>\n",
       "      <th>2</th>\n",
       "      <td>24-48 months</td>\n",
       "      <td>1624</td>\n",
       "      <td>339</td>\n",
       "      <td>20.87</td>\n",
       "    </tr>\n",
       "    <tr>\n",
       "      <th>3</th>\n",
       "      <td>48+ months</td>\n",
       "      <td>2303</td>\n",
       "      <td>222</td>\n",
       "      <td>9.64</td>\n",
       "    </tr>\n",
       "  </tbody>\n",
       "</table>\n",
       "</div>"
      ],
      "text/plain": [
       "   tenure_group  total_customers  churned_customers  churn_rate\n",
       "0   0-12 months             2069                999       48.28\n",
       "1  12-24 months             1047                309       29.51\n",
       "2  24-48 months             1624                339       20.87\n",
       "3    48+ months             2303                222        9.64"
      ]
     },
     "execution_count": 114,
     "metadata": {},
     "output_type": "execute_result"
    }
   ],
   "source": [
    "query = \"\"\"\n",
    "SELECT CASE \n",
    "          WHEN [Tenure Months] < 12 THEN '0-12 months'\n",
    "          WHEN[Tenure Months] < 24 THEN '12-24 months'\n",
    "          WHEN [Tenure Months] < 48 THEN '24-48 months'\n",
    "          ELSE '48+ months'\n",
    "       END AS tenure_group,                                -- create tenure buckets\n",
    "       COUNT(*) AS total_customers,                        -- total in each bucket\n",
    "       SUM(CASE WHEN [Churn Value] = 1 THEN 1 ELSE 0 END) AS churned_customers,\n",
    "       ROUND(100.0 * SUM(CASE WHEN [Churn Value] = 1 THEN 1 ELSE 0 END) / COUNT(*), 2) AS churn_rate\n",
    "FROM telco\n",
    "GROUP BY tenure_group\n",
    "ORDER BY tenure_group;\n",
    "\"\"\"\n",
    "pd.read_sql_query(query, conn)"
   ]
  },
  {
   "cell_type": "markdown",
   "id": "599b6718-a0aa-436d-83f1-47feadbf0195",
   "metadata": {},
   "source": [
    "Churn is highest in the first year(0-12 months: 48%) and decreases with longer tenure. By the 4th year, churn is below 10%. \n",
    "\n",
    "### Churn by Internet Service"
   ]
  },
  {
   "cell_type": "code",
   "execution_count": 138,
   "id": "a3fcfeb4-943f-42a6-a66b-bf4a3895204d",
   "metadata": {},
   "outputs": [
    {
     "data": {
      "text/html": [
       "<div>\n",
       "<style scoped>\n",
       "    .dataframe tbody tr th:only-of-type {\n",
       "        vertical-align: middle;\n",
       "    }\n",
       "\n",
       "    .dataframe tbody tr th {\n",
       "        vertical-align: top;\n",
       "    }\n",
       "\n",
       "    .dataframe thead th {\n",
       "        text-align: right;\n",
       "    }\n",
       "</style>\n",
       "<table border=\"1\" class=\"dataframe\">\n",
       "  <thead>\n",
       "    <tr style=\"text-align: right;\">\n",
       "      <th></th>\n",
       "      <th>Internet Service</th>\n",
       "      <th>total_customers</th>\n",
       "      <th>churned_customers</th>\n",
       "      <th>churn_rate</th>\n",
       "    </tr>\n",
       "  </thead>\n",
       "  <tbody>\n",
       "    <tr>\n",
       "      <th>0</th>\n",
       "      <td>Fiber optic</td>\n",
       "      <td>3096</td>\n",
       "      <td>1297</td>\n",
       "      <td>41.89</td>\n",
       "    </tr>\n",
       "    <tr>\n",
       "      <th>1</th>\n",
       "      <td>DSL</td>\n",
       "      <td>2421</td>\n",
       "      <td>459</td>\n",
       "      <td>18.96</td>\n",
       "    </tr>\n",
       "    <tr>\n",
       "      <th>2</th>\n",
       "      <td>No</td>\n",
       "      <td>1526</td>\n",
       "      <td>113</td>\n",
       "      <td>7.40</td>\n",
       "    </tr>\n",
       "  </tbody>\n",
       "</table>\n",
       "</div>"
      ],
      "text/plain": [
       "  Internet Service  total_customers  churned_customers  churn_rate\n",
       "0      Fiber optic             3096               1297       41.89\n",
       "1              DSL             2421                459       18.96\n",
       "2               No             1526                113        7.40"
      ]
     },
     "execution_count": 138,
     "metadata": {},
     "output_type": "execute_result"
    }
   ],
   "source": [
    "query = \"\"\"\n",
    "SELECT [Internet Service],\n",
    "        COUNT(*) AS total_customers,\n",
    "        SUM(CASE WHEN [Churn Value] = 1 THEN 1 ELSE 0 END) AS churned_customers,\n",
    "        ROUND(100.0 * SUM(CASE WHEN [Churn Value] = 1 THEN 1 ELSE 0 END) / COUNT(*),2) AS churn_rate\n",
    "FROM telco\n",
    "GROUP BY [Internet Service]\n",
    "ORDER BY churn_rate DESC;\n",
    "\"\"\"\n",
    "pd.read_sql_query(query,conn)"
   ]
  },
  {
   "cell_type": "markdown",
   "id": "fa81b8f9-fa4e-4f92-9f38-29b22b7e4f40",
   "metadata": {},
   "source": [
    "Fiber optic customers churn the most, while DSL churns less, and No Internet customers churn the least. Customers who subcribe to more services may be less likely to churn. To test this, we will count the number of add-on services each customer has and compare churn rates across groups.\n",
    "\n",
    "### Churn by Number of Services"
   ]
  },
  {
   "cell_type": "code",
   "execution_count": 150,
   "id": "2f222cb8-7a6d-4f73-b9fe-a47d1feac9bb",
   "metadata": {},
   "outputs": [
    {
     "data": {
      "text/html": [
       "<div>\n",
       "<style scoped>\n",
       "    .dataframe tbody tr th:only-of-type {\n",
       "        vertical-align: middle;\n",
       "    }\n",
       "\n",
       "    .dataframe tbody tr th {\n",
       "        vertical-align: top;\n",
       "    }\n",
       "\n",
       "    .dataframe thead th {\n",
       "        text-align: right;\n",
       "    }\n",
       "</style>\n",
       "<table border=\"1\" class=\"dataframe\">\n",
       "  <thead>\n",
       "    <tr style=\"text-align: right;\">\n",
       "      <th></th>\n",
       "      <th>num_services</th>\n",
       "      <th>total_customers</th>\n",
       "      <th>churned_customers</th>\n",
       "    </tr>\n",
       "  </thead>\n",
       "  <tbody>\n",
       "    <tr>\n",
       "      <th>0</th>\n",
       "      <td>0</td>\n",
       "      <td>2219</td>\n",
       "      <td>475</td>\n",
       "    </tr>\n",
       "    <tr>\n",
       "      <th>1</th>\n",
       "      <td>1</td>\n",
       "      <td>966</td>\n",
       "      <td>442</td>\n",
       "    </tr>\n",
       "    <tr>\n",
       "      <th>2</th>\n",
       "      <td>2</td>\n",
       "      <td>1033</td>\n",
       "      <td>370</td>\n",
       "    </tr>\n",
       "    <tr>\n",
       "      <th>3</th>\n",
       "      <td>3</td>\n",
       "      <td>1118</td>\n",
       "      <td>306</td>\n",
       "    </tr>\n",
       "    <tr>\n",
       "      <th>4</th>\n",
       "      <td>4</td>\n",
       "      <td>852</td>\n",
       "      <td>190</td>\n",
       "    </tr>\n",
       "    <tr>\n",
       "      <th>5</th>\n",
       "      <td>5</td>\n",
       "      <td>571</td>\n",
       "      <td>71</td>\n",
       "    </tr>\n",
       "    <tr>\n",
       "      <th>6</th>\n",
       "      <td>6</td>\n",
       "      <td>284</td>\n",
       "      <td>15</td>\n",
       "    </tr>\n",
       "  </tbody>\n",
       "</table>\n",
       "</div>"
      ],
      "text/plain": [
       "   num_services  total_customers  churned_customers\n",
       "0             0             2219                475\n",
       "1             1              966                442\n",
       "2             2             1033                370\n",
       "3             3             1118                306\n",
       "4             4              852                190\n",
       "5             5              571                 71\n",
       "6             6              284                 15"
      ]
     },
     "execution_count": 150,
     "metadata": {},
     "output_type": "execute_result"
    }
   ],
   "source": [
    "query = \"\"\"\n",
    "SELECT \n",
    "    (CASE WHEN [Online Security] = 'Yes' THEN 1 ELSE 0 END +\n",
    "    CASE WHEN [Online Backup] = 'Yes' THEN 1 ELSE 0 END +\n",
    "    CASE WHEN [Device Protection] = 'Yes' THEN 1 ELSE 0 END +\n",
    "    CASE WHEN [Tech Support] = 'Yes' THEN 1 ELSE 0 END +\n",
    "    CASE WHEN [Streaming TV] = 'Yes' THEN 1 ELSE 0 END +\n",
    "    CASE WHEN [Streaming Movies] = 'Yes' THEN 1 ELSE 0 END) As num_services,\n",
    "    COUNT(*) As total_customers,\n",
    "    SUM(CASE WHEN [Churn Value] = 1 THEN 1 ELSE 0 END) As churned_customers\n",
    "FROM telco\n",
    "GROUP BY num_services\n",
    "ORDER BY num_services;\n",
    "\"\"\"\n",
    "pd.read_sql_query(query,conn)"
   ]
  },
  {
   "cell_type": "markdown",
   "id": "4409561b-151e-434c-ac71-c45853273c16",
   "metadata": {},
   "source": [
    "Customers with 0-1 services churn at aroun 50% while those with 4+ services churn under 10%. Bundling services significantly increases customer stickiness. Offering service packages or upsells could be an effective retention strategy. \n",
    "\n",
    "### Cross Analysis (Churn by Contract + Payment Method)\n",
    "Next, we will do a cross analysis to identify which contract + payment method combinations carry the highest risk. We know from before the contract type and payment method are both storng churn predictors individually. But what if we combine them?"
   ]
  },
  {
   "cell_type": "code",
   "execution_count": 36,
   "id": "9c7de9d0-cd0a-418e-9ad2-da56f28645a3",
   "metadata": {},
   "outputs": [],
   "source": [
    "query = \"\"\"\n",
    "SELECT Contract, [Payment Method],\n",
    "        COUNT (*) AS total_customers,\n",
    "        SUM(CASE WHEN [Churn Value] = 1 THEN 1 ELSE 0 END) AS churned_customers,\n",
    "        ROUND(100.0 * SUM(CASE WHEN [Churn Value] = 1 THEN 1 ELSE 0 END) / COUNT(*), 2) AS churn_rate\n",
    "FROM telco\n",
    "GROUP BY Contract, [Payment Method]\n",
    "ORDER BY churn_rate DESC;\n",
    "\"\"\"\n",
    "df_contract_payment=pd.read_sql_query(query,conn)"
   ]
  },
  {
   "cell_type": "markdown",
   "id": "4d8c86e6-98eb-472b-80be-579d7861e26a",
   "metadata": {},
   "source": [
    "### Heatmap Visualization"
   ]
  },
  {
   "cell_type": "code",
   "execution_count": 46,
   "id": "af24ed01-9d55-4a20-9a08-c56de8450026",
   "metadata": {},
   "outputs": [
    {
     "data": {
      "image/png": "[encoded data removed]",
      "text/plain": [
       "<Figure size 1000x600 with 2 Axes>"
      ]
     },
     "metadata": {},
     "output_type": "display_data"
    }
   ],
   "source": [
    "pivot = df_contract_payment.pivot(index=\"Contract\", columns=\"Payment Method\", values=\"churn_rate\")\n",
    "\n",
    "plt.figure(figsize=(10,6))\n",
    "sns.heatmap(pivot, annot=True, fmt=\".1f\", cmap=\"YlOrRd\", cbar_kws={\"label\": \"Churn Rate (%)\"})\n",
    "plt.title(\"Churn Rate by Contract Type & Payment Method\")\n",
    "plt.ylabel(\"Contract Type\")\n",
    "plt.xlabel(\"Payment Method\")\n",
    "plt.show()"
   ]
  },
  {
   "cell_type": "markdown",
   "id": "b5b53575-58db-402b-a76b-9334a1139355",
   "metadata": {},
   "source": [
    "Customers on month to month contracts with electronic ckeck payments churn the most, 54%, while those on two yeears contract with automated payments churn with 2.24%. The riskiest group should be prioritised for retention efforts. Conversely, promoting longer-term contracta and auto-pay reduces churn."
   ]
  },
  {
   "cell_type": "markdown",
   "id": "92e73520-b52c-4e12-a183-cd84ea44ea37",
   "metadata": {},
   "source": [
    "### Summary - Key Findings\n",
    "After analyzing the Telco dataset with SQL,several clear churn drivers emerged:\n",
    "* Baseline: 27 % of customers churn (about 30 % of the monthly revenue).\n",
    "* Contracts: Month-to-month contracts churn 43% vs 3% for two year contracts.\n",
    "* Payments: Eletronic check users churn most, auto-pay customers churn least.\n",
    "* Revenue Impact: Churners account for 30% of monthly revenue - which is direct bussiness risk.\n",
    "* Tenure:  Nearly half of customers churn in the first 12 months but < 10% after 4 years.\n",
    "* Network Services: Customers with more bundled services are more loyal.\n",
    "* Risk Hotspot: Month-to-month + electronic check = highest churn group 54%"
   ]
  },
  {
   "cell_type": "code",
   "execution_count": null,
   "id": "8dfe0598-c018-490f-8a9e-fdee4b2f10aa",
   "metadata": {},
   "outputs": [],
   "source": []
  }
 ],
 "metadata": {
  "kernelspec": {
   "display_name": "Python 3 (ipykernel)",
   "language": "python",
   "name": "python3"
  },
  "language_info": {
   "codemirror_mode": {
    "name": "ipython",
    "version": 3
   },
   "file_extension": ".py",
   "mimetype": "text/x-python",
   "name": "python",
   "nbconvert_exporter": "python",
   "pygments_lexer": "ipython3",
   "version": "3.12.4"
  }
 },
 "nbformat": 4,
 "nbformat_minor": 5
}
